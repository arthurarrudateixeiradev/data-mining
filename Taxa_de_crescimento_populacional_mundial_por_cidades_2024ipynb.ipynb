{
  "nbformat": 4,
  "nbformat_minor": 0,
  "metadata": {
    "colab": {
      "provenance": [],
      "mount_file_id": "1GfD4KfUtBerEQgQk0zVCjQxpKUBtur9a",
      "authorship_tag": "ABX9TyN1PD0vl10PVmWwpckSquXy",
      "include_colab_link": true
    },
    "kernelspec": {
      "name": "python3",
      "display_name": "Python 3"
    },
    "language_info": {
      "name": "python"
    }
  },
  "cells": [
    {
      "cell_type": "markdown",
      "metadata": {
        "id": "view-in-github",
        "colab_type": "text"
      },
      "source": [
        "<a href=\"https://colab.research.google.com/github/arthurarrudateixeiradev/data-mining/blob/main/Taxa_de_crescimento_populacional_mundial_por_cidades_2024ipynb.ipynb\" target=\"_parent\"><img src=\"https://colab.research.google.com/assets/colab-badge.svg\" alt=\"Open In Colab\"/></a>"
      ]
    },
    {
      "cell_type": "markdown",
      "source": [
        "Registrem os principais achados da Análise Exploratória de Dados em taxa de crescimento populacional\n",
        "\n",
        "# **Distribuição da População:**\n",
        "# - A população em 2023 e 2024 parece seguir uma distribuição assimétrica à direita, com a maioria das cidades tendo populações menores.\n",
        "# - Há algumas cidades com populações excepcionalmente grandes, que podem ser outliers.\n",
        "\n",
        "# **Taxa de Crescimento:**\n",
        "# - A taxa de crescimento também parece seguir uma distribuição assimétrica, com a maioria das cidades apresentando taxas de crescimento moderadas.\n",
        "# - Existem algumas cidades com taxas de crescimento negativas, indicando declínio populacional.\n",
        "\n",
        "\n",
        "# **Previsões de Taxa de Crescimento:**\n",
        "# - Um modelo de regressão linear foi treinado para prever a taxa de crescimento com base na cidade e no continente.\n",
        "# - O erro médio absoluto (MAE) do modelo é de aproximadamente [valor do MAE].\n",
        "# - A visualização das previsões vs valores reais e a distribuição dos resíduos podem fornecer mais insights sobre o desempenho do modelo.\n",
        "\n"
      ],
      "metadata": {
        "id": "3de-LcLmbobX"
      }
    },
    {
      "cell_type": "markdown",
      "source": [
        "Essa parte do código atribui o alias pdà biblioteca \"pandas\" . significa que, em vez de ter que digitar, pandas toda vez que você quiser usar uma função ou classe da biblioteca, você pode simplesmente digitar \"pd\"."
      ],
      "metadata": {
        "id": "YkNVks5IXN-4"
      }
    },
    {
      "cell_type": "code",
      "source": [
        "import pandas as pd\n"
      ],
      "metadata": {
        "id": "jcUJ-ie9fKHR"
      },
      "execution_count": null,
      "outputs": []
    },
    {
      "cell_type": "markdown",
      "source": [
        "Esse código é utilizado para montar o Google Drive no Google Colab e ler um arquivo CSV."
      ],
      "metadata": {
        "id": "PKLF_HVoWj92"
      }
    },
    {
      "cell_type": "code",
      "source": [
        "from google.colab import drive\n",
        "drive.mount('/content/drive')\n",
        "\n",
        "df = pd.read_csv('/content/Wprld population growth rate by cities 2024.csv')\n"
      ],
      "metadata": {
        "colab": {
          "base_uri": "https://localhost:8080/"
        },
        "id": "WiiPB8MyfT5g",
        "outputId": "eec4a42c-01c1-4f51-e29f-9a9787853f55"
      },
      "execution_count": null,
      "outputs": [
        {
          "output_type": "stream",
          "name": "stdout",
          "text": [
            "Drive already mounted at /content/drive; to attempt to forcibly remount, call drive.mount(\"/content/drive\", force_remount=True).\n"
          ]
        }
      ]
    },
    {
      "cell_type": "markdown",
      "source": [
        "# O código df.info() realiza as seguintes ações:\n",
        "\n",
        "**Exibe uma visão geral do DataFrame df**:\n",
        "\n",
        "**negritoÍndice**: Mostra o intervalo do índice do DataFrame.\n",
        "\n",
        "**Colunas** : negrito negrito Lista os nomes das colunas do DataFrame.\n",
        "\n",
        "**Non-Null Count**: Exibe a contagem de valores não nulos em cada coluna.\n",
        "\n",
        "**Dtype:** Mostra o tipo de dado (dtype) de cada coluna, como int64, float64, object, etc.\n",
        "\n",
        "**Memory Usage**: **Indica o uso de memória do DataFrame.\n",
        "\n",
        "A saída de df.info() fornece informações úteis para entender a estrutura dos dados, identificar colunas com valores nulos e verificar os tipos de dados presentes no DataFrame."
      ],
      "metadata": {
        "id": "fF9BwVFfJz22"
      }
    },
    {
      "cell_type": "code",
      "source": [
        "df.info()"
      ],
      "metadata": {
        "colab": {
          "base_uri": "https://localhost:8080/"
        },
        "id": "r-W4kqA2OtIj",
        "outputId": "456e1b4d-955d-4d00-d345-17b315f624f4"
      },
      "execution_count": null,
      "outputs": [
        {
          "output_type": "stream",
          "name": "stdout",
          "text": [
            "<class 'pandas.core.frame.DataFrame'>\n",
            "RangeIndex: 801 entries, 0 to 800\n",
            "Data columns (total 6 columns):\n",
            " #   Column             Non-Null Count  Dtype  \n",
            "---  ------             --------------  -----  \n",
            " 0   City               801 non-null    object \n",
            " 1   Country            801 non-null    object \n",
            " 2   Continent          790 non-null    object \n",
            " 3   Population (2024)  801 non-null    int64  \n",
            " 4   Population (2023)  801 non-null    int64  \n",
            " 5   Growth Rate        801 non-null    float64\n",
            "dtypes: float64(1), int64(2), object(3)\n",
            "memory usage: 37.7+ KB\n"
          ]
        }
      ]
    },
    {
      "cell_type": "markdown",
      "source": [
        "# O código \" df.head()\" realiza a seguinte ação:\n",
        "\n",
        "**Exibe as primeiras linhas do DataFrame df:**\n",
        "\n",
        " \"df.head()\", mostra as primeiras 5 linhas do DataFrame. Isso fornece uma visão rápida e inicial dos dados, permitindo que você veja os valores das primeiras linhas em todas as colunas."
      ],
      "metadata": {
        "id": "MnS5pmJWZFqc"
      }
    },
    {
      "cell_type": "code",
      "source": [
        "df.head()\n"
      ],
      "metadata": {
        "colab": {
          "base_uri": "https://localhost:8080/",
          "height": 206
        },
        "id": "sxY4FX1Rf5pf",
        "outputId": "b75a43b6-80b8-4804-8a96-0f5ba19b3cb7"
      },
      "execution_count": null,
      "outputs": [
        {
          "output_type": "execute_result",
          "data": {
            "text/plain": [
              "        City     Country      Continent  Population (2024)  Population (2023)  \\\n",
              "0      Tokyo       Japan           Asia           37115035           37194105   \n",
              "1      Delhi       India           Asia           33807403           32941309   \n",
              "2   Shanghai       China           Asia           29867918           29210808   \n",
              "3      Dhaka  Bangladesh           Asia           23935652           23209616   \n",
              "4  Sao Paulo      Brazil  South America           22806704           22619736   \n",
              "\n",
              "   Growth Rate  \n",
              "0      -0.0021  \n",
              "1       0.0263  \n",
              "2       0.0225  \n",
              "3       0.0313  \n",
              "4       0.0083  "
            ],
            "text/html": [
              "\n",
              "  <div id=\"df-6b07ed59-dff5-4fcd-863f-5f29acc4eb0f\" class=\"colab-df-container\">\n",
              "    <div>\n",
              "<style scoped>\n",
              "    .dataframe tbody tr th:only-of-type {\n",
              "        vertical-align: middle;\n",
              "    }\n",
              "\n",
              "    .dataframe tbody tr th {\n",
              "        vertical-align: top;\n",
              "    }\n",
              "\n",
              "    .dataframe thead th {\n",
              "        text-align: right;\n",
              "    }\n",
              "</style>\n",
              "<table border=\"1\" class=\"dataframe\">\n",
              "  <thead>\n",
              "    <tr style=\"text-align: right;\">\n",
              "      <th></th>\n",
              "      <th>City</th>\n",
              "      <th>Country</th>\n",
              "      <th>Continent</th>\n",
              "      <th>Population (2024)</th>\n",
              "      <th>Population (2023)</th>\n",
              "      <th>Growth Rate</th>\n",
              "    </tr>\n",
              "  </thead>\n",
              "  <tbody>\n",
              "    <tr>\n",
              "      <th>0</th>\n",
              "      <td>Tokyo</td>\n",
              "      <td>Japan</td>\n",
              "      <td>Asia</td>\n",
              "      <td>37115035</td>\n",
              "      <td>37194105</td>\n",
              "      <td>-0.0021</td>\n",
              "    </tr>\n",
              "    <tr>\n",
              "      <th>1</th>\n",
              "      <td>Delhi</td>\n",
              "      <td>India</td>\n",
              "      <td>Asia</td>\n",
              "      <td>33807403</td>\n",
              "      <td>32941309</td>\n",
              "      <td>0.0263</td>\n",
              "    </tr>\n",
              "    <tr>\n",
              "      <th>2</th>\n",
              "      <td>Shanghai</td>\n",
              "      <td>China</td>\n",
              "      <td>Asia</td>\n",
              "      <td>29867918</td>\n",
              "      <td>29210808</td>\n",
              "      <td>0.0225</td>\n",
              "    </tr>\n",
              "    <tr>\n",
              "      <th>3</th>\n",
              "      <td>Dhaka</td>\n",
              "      <td>Bangladesh</td>\n",
              "      <td>Asia</td>\n",
              "      <td>23935652</td>\n",
              "      <td>23209616</td>\n",
              "      <td>0.0313</td>\n",
              "    </tr>\n",
              "    <tr>\n",
              "      <th>4</th>\n",
              "      <td>Sao Paulo</td>\n",
              "      <td>Brazil</td>\n",
              "      <td>South America</td>\n",
              "      <td>22806704</td>\n",
              "      <td>22619736</td>\n",
              "      <td>0.0083</td>\n",
              "    </tr>\n",
              "  </tbody>\n",
              "</table>\n",
              "</div>\n",
              "    <div class=\"colab-df-buttons\">\n",
              "\n",
              "  <div class=\"colab-df-container\">\n",
              "    <button class=\"colab-df-convert\" onclick=\"convertToInteractive('df-6b07ed59-dff5-4fcd-863f-5f29acc4eb0f')\"\n",
              "            title=\"Convert this dataframe to an interactive table.\"\n",
              "            style=\"display:none;\">\n",
              "\n",
              "  <svg xmlns=\"http://www.w3.org/2000/svg\" height=\"24px\" viewBox=\"0 -960 960 960\">\n",
              "    <path d=\"M120-120v-720h720v720H120Zm60-500h600v-160H180v160Zm220 220h160v-160H400v160Zm0 220h160v-160H400v160ZM180-400h160v-160H180v160Zm440 0h160v-160H620v160ZM180-180h160v-160H180v160Zm440 0h160v-160H620v160Z\"/>\n",
              "  </svg>\n",
              "    </button>\n",
              "\n",
              "  <style>\n",
              "    .colab-df-container {\n",
              "      display:flex;\n",
              "      gap: 12px;\n",
              "    }\n",
              "\n",
              "    .colab-df-convert {\n",
              "      background-color: #E8F0FE;\n",
              "      border: none;\n",
              "      border-radius: 50%;\n",
              "      cursor: pointer;\n",
              "      display: none;\n",
              "      fill: #1967D2;\n",
              "      height: 32px;\n",
              "      padding: 0 0 0 0;\n",
              "      width: 32px;\n",
              "    }\n",
              "\n",
              "    .colab-df-convert:hover {\n",
              "      background-color: #E2EBFA;\n",
              "      box-shadow: 0px 1px 2px rgba(60, 64, 67, 0.3), 0px 1px 3px 1px rgba(60, 64, 67, 0.15);\n",
              "      fill: #174EA6;\n",
              "    }\n",
              "\n",
              "    .colab-df-buttons div {\n",
              "      margin-bottom: 4px;\n",
              "    }\n",
              "\n",
              "    [theme=dark] .colab-df-convert {\n",
              "      background-color: #3B4455;\n",
              "      fill: #D2E3FC;\n",
              "    }\n",
              "\n",
              "    [theme=dark] .colab-df-convert:hover {\n",
              "      background-color: #434B5C;\n",
              "      box-shadow: 0px 1px 3px 1px rgba(0, 0, 0, 0.15);\n",
              "      filter: drop-shadow(0px 1px 2px rgba(0, 0, 0, 0.3));\n",
              "      fill: #FFFFFF;\n",
              "    }\n",
              "  </style>\n",
              "\n",
              "    <script>\n",
              "      const buttonEl =\n",
              "        document.querySelector('#df-6b07ed59-dff5-4fcd-863f-5f29acc4eb0f button.colab-df-convert');\n",
              "      buttonEl.style.display =\n",
              "        google.colab.kernel.accessAllowed ? 'block' : 'none';\n",
              "\n",
              "      async function convertToInteractive(key) {\n",
              "        const element = document.querySelector('#df-6b07ed59-dff5-4fcd-863f-5f29acc4eb0f');\n",
              "        const dataTable =\n",
              "          await google.colab.kernel.invokeFunction('convertToInteractive',\n",
              "                                                    [key], {});\n",
              "        if (!dataTable) return;\n",
              "\n",
              "        const docLinkHtml = 'Like what you see? Visit the ' +\n",
              "          '<a target=\"_blank\" href=https://colab.research.google.com/notebooks/data_table.ipynb>data table notebook</a>'\n",
              "          + ' to learn more about interactive tables.';\n",
              "        element.innerHTML = '';\n",
              "        dataTable['output_type'] = 'display_data';\n",
              "        await google.colab.output.renderOutput(dataTable, element);\n",
              "        const docLink = document.createElement('div');\n",
              "        docLink.innerHTML = docLinkHtml;\n",
              "        element.appendChild(docLink);\n",
              "      }\n",
              "    </script>\n",
              "  </div>\n",
              "\n",
              "\n",
              "<div id=\"df-33803c37-6f12-47ba-bc2b-b9958fe0fb07\">\n",
              "  <button class=\"colab-df-quickchart\" onclick=\"quickchart('df-33803c37-6f12-47ba-bc2b-b9958fe0fb07')\"\n",
              "            title=\"Suggest charts\"\n",
              "            style=\"display:none;\">\n",
              "\n",
              "<svg xmlns=\"http://www.w3.org/2000/svg\" height=\"24px\"viewBox=\"0 0 24 24\"\n",
              "     width=\"24px\">\n",
              "    <g>\n",
              "        <path d=\"M19 3H5c-1.1 0-2 .9-2 2v14c0 1.1.9 2 2 2h14c1.1 0 2-.9 2-2V5c0-1.1-.9-2-2-2zM9 17H7v-7h2v7zm4 0h-2V7h2v10zm4 0h-2v-4h2v4z\"/>\n",
              "    </g>\n",
              "</svg>\n",
              "  </button>\n",
              "\n",
              "<style>\n",
              "  .colab-df-quickchart {\n",
              "      --bg-color: #E8F0FE;\n",
              "      --fill-color: #1967D2;\n",
              "      --hover-bg-color: #E2EBFA;\n",
              "      --hover-fill-color: #174EA6;\n",
              "      --disabled-fill-color: #AAA;\n",
              "      --disabled-bg-color: #DDD;\n",
              "  }\n",
              "\n",
              "  [theme=dark] .colab-df-quickchart {\n",
              "      --bg-color: #3B4455;\n",
              "      --fill-color: #D2E3FC;\n",
              "      --hover-bg-color: #434B5C;\n",
              "      --hover-fill-color: #FFFFFF;\n",
              "      --disabled-bg-color: #3B4455;\n",
              "      --disabled-fill-color: #666;\n",
              "  }\n",
              "\n",
              "  .colab-df-quickchart {\n",
              "    background-color: var(--bg-color);\n",
              "    border: none;\n",
              "    border-radius: 50%;\n",
              "    cursor: pointer;\n",
              "    display: none;\n",
              "    fill: var(--fill-color);\n",
              "    height: 32px;\n",
              "    padding: 0;\n",
              "    width: 32px;\n",
              "  }\n",
              "\n",
              "  .colab-df-quickchart:hover {\n",
              "    background-color: var(--hover-bg-color);\n",
              "    box-shadow: 0 1px 2px rgba(60, 64, 67, 0.3), 0 1px 3px 1px rgba(60, 64, 67, 0.15);\n",
              "    fill: var(--button-hover-fill-color);\n",
              "  }\n",
              "\n",
              "  .colab-df-quickchart-complete:disabled,\n",
              "  .colab-df-quickchart-complete:disabled:hover {\n",
              "    background-color: var(--disabled-bg-color);\n",
              "    fill: var(--disabled-fill-color);\n",
              "    box-shadow: none;\n",
              "  }\n",
              "\n",
              "  .colab-df-spinner {\n",
              "    border: 2px solid var(--fill-color);\n",
              "    border-color: transparent;\n",
              "    border-bottom-color: var(--fill-color);\n",
              "    animation:\n",
              "      spin 1s steps(1) infinite;\n",
              "  }\n",
              "\n",
              "  @keyframes spin {\n",
              "    0% {\n",
              "      border-color: transparent;\n",
              "      border-bottom-color: var(--fill-color);\n",
              "      border-left-color: var(--fill-color);\n",
              "    }\n",
              "    20% {\n",
              "      border-color: transparent;\n",
              "      border-left-color: var(--fill-color);\n",
              "      border-top-color: var(--fill-color);\n",
              "    }\n",
              "    30% {\n",
              "      border-color: transparent;\n",
              "      border-left-color: var(--fill-color);\n",
              "      border-top-color: var(--fill-color);\n",
              "      border-right-color: var(--fill-color);\n",
              "    }\n",
              "    40% {\n",
              "      border-color: transparent;\n",
              "      border-right-color: var(--fill-color);\n",
              "      border-top-color: var(--fill-color);\n",
              "    }\n",
              "    60% {\n",
              "      border-color: transparent;\n",
              "      border-right-color: var(--fill-color);\n",
              "    }\n",
              "    80% {\n",
              "      border-color: transparent;\n",
              "      border-right-color: var(--fill-color);\n",
              "      border-bottom-color: var(--fill-color);\n",
              "    }\n",
              "    90% {\n",
              "      border-color: transparent;\n",
              "      border-bottom-color: var(--fill-color);\n",
              "    }\n",
              "  }\n",
              "</style>\n",
              "\n",
              "  <script>\n",
              "    async function quickchart(key) {\n",
              "      const quickchartButtonEl =\n",
              "        document.querySelector('#' + key + ' button');\n",
              "      quickchartButtonEl.disabled = true;  // To prevent multiple clicks.\n",
              "      quickchartButtonEl.classList.add('colab-df-spinner');\n",
              "      try {\n",
              "        const charts = await google.colab.kernel.invokeFunction(\n",
              "            'suggestCharts', [key], {});\n",
              "      } catch (error) {\n",
              "        console.error('Error during call to suggestCharts:', error);\n",
              "      }\n",
              "      quickchartButtonEl.classList.remove('colab-df-spinner');\n",
              "      quickchartButtonEl.classList.add('colab-df-quickchart-complete');\n",
              "    }\n",
              "    (() => {\n",
              "      let quickchartButtonEl =\n",
              "        document.querySelector('#df-33803c37-6f12-47ba-bc2b-b9958fe0fb07 button');\n",
              "      quickchartButtonEl.style.display =\n",
              "        google.colab.kernel.accessAllowed ? 'block' : 'none';\n",
              "    })();\n",
              "  </script>\n",
              "</div>\n",
              "\n",
              "    </div>\n",
              "  </div>\n"
            ],
            "application/vnd.google.colaboratory.intrinsic+json": {
              "type": "dataframe",
              "variable_name": "df",
              "summary": "{\n  \"name\": \"df\",\n  \"rows\": 801,\n  \"fields\": [\n    {\n      \"column\": \"City\",\n      \"properties\": {\n        \"dtype\": \"string\",\n        \"num_unique_values\": 797,\n        \"samples\": [\n          \"Zhuji\",\n          \"Soshanguve\",\n          \"Dalian\"\n        ],\n        \"semantic_type\": \"\",\n        \"description\": \"\"\n      }\n    },\n    {\n      \"column\": \"Country\",\n      \"properties\": {\n        \"dtype\": \"category\",\n        \"num_unique_values\": 132,\n        \"samples\": [\n          \"Kuwait\",\n          \"Togo\",\n          \"South Korea\"\n        ],\n        \"semantic_type\": \"\",\n        \"description\": \"\"\n      }\n    },\n    {\n      \"column\": \"Continent\",\n      \"properties\": {\n        \"dtype\": \"category\",\n        \"num_unique_values\": 7,\n        \"samples\": [\n          \"Asia\",\n          \"South America\",\n          \"Oceana\"\n        ],\n        \"semantic_type\": \"\",\n        \"description\": \"\"\n      }\n    },\n    {\n      \"column\": \"Population (2024)\",\n      \"properties\": {\n        \"dtype\": \"number\",\n        \"std\": 3723253,\n        \"min\": 750036,\n        \"max\": 37115035,\n        \"num_unique_values\": 801,\n        \"samples\": [\n          851399,\n          904070,\n          6217487\n        ],\n        \"semantic_type\": \"\",\n        \"description\": \"\"\n      }\n    },\n    {\n      \"column\": \"Population (2023)\",\n      \"properties\": {\n        \"dtype\": \"number\",\n        \"std\": 3661200,\n        \"min\": 722836,\n        \"max\": 37194105,\n        \"num_unique_values\": 801,\n        \"samples\": [\n          826414,\n          886381,\n          6077995\n        ],\n        \"semantic_type\": \"\",\n        \"description\": \"\"\n      }\n    },\n    {\n      \"column\": \"Growth Rate\",\n      \"properties\": {\n        \"dtype\": \"number\",\n        \"std\": 0.01218011192085255,\n        \"min\": -0.0249,\n        \"max\": 0.0582,\n        \"num_unique_values\": 376,\n        \"samples\": [\n          0.0287,\n          0.0377,\n          0.0483\n        ],\n        \"semantic_type\": \"\",\n        \"description\": \"\"\n      }\n    }\n  ]\n}"
            }
          },
          "metadata": {},
          "execution_count": 4
        }
      ]
    },
    {
      "cell_type": "markdown",
      "source": [
        "# Valores Ausentes:\n",
        "Há alguns valores ausentes na coluna 'Continente', que precisam ser tratados antes de construir modelos preditivos."
      ],
      "metadata": {
        "id": "NUwvxmvjb0P2"
      }
    },
    {
      "cell_type": "code",
      "source": [
        "# verirficar os valores nulos no df\n",
        "df.isnull().sum()"
      ],
      "metadata": {
        "colab": {
          "base_uri": "https://localhost:8080/",
          "height": 273
        },
        "id": "uRTxWweuSqPC",
        "outputId": "5692d48f-967d-4c8a-d90e-c82be0499752"
      },
      "execution_count": null,
      "outputs": [
        {
          "output_type": "execute_result",
          "data": {
            "text/plain": [
              "City                  0\n",
              "Country               0\n",
              "Continent            11\n",
              "Population (2024)     0\n",
              "Population (2023)     0\n",
              "Growth Rate           0\n",
              "dtype: int64"
            ],
            "text/html": [
              "<div>\n",
              "<style scoped>\n",
              "    .dataframe tbody tr th:only-of-type {\n",
              "        vertical-align: middle;\n",
              "    }\n",
              "\n",
              "    .dataframe tbody tr th {\n",
              "        vertical-align: top;\n",
              "    }\n",
              "\n",
              "    .dataframe thead th {\n",
              "        text-align: right;\n",
              "    }\n",
              "</style>\n",
              "<table border=\"1\" class=\"dataframe\">\n",
              "  <thead>\n",
              "    <tr style=\"text-align: right;\">\n",
              "      <th></th>\n",
              "      <th>0</th>\n",
              "    </tr>\n",
              "  </thead>\n",
              "  <tbody>\n",
              "    <tr>\n",
              "      <th>City</th>\n",
              "      <td>0</td>\n",
              "    </tr>\n",
              "    <tr>\n",
              "      <th>Country</th>\n",
              "      <td>0</td>\n",
              "    </tr>\n",
              "    <tr>\n",
              "      <th>Continent</th>\n",
              "      <td>11</td>\n",
              "    </tr>\n",
              "    <tr>\n",
              "      <th>Population (2024)</th>\n",
              "      <td>0</td>\n",
              "    </tr>\n",
              "    <tr>\n",
              "      <th>Population (2023)</th>\n",
              "      <td>0</td>\n",
              "    </tr>\n",
              "    <tr>\n",
              "      <th>Growth Rate</th>\n",
              "      <td>0</td>\n",
              "    </tr>\n",
              "  </tbody>\n",
              "</table>\n",
              "</div><br><label><b>dtype:</b> int64</label>"
            ]
          },
          "metadata": {},
          "execution_count": 5
        }
      ]
    },
    {
      "cell_type": "markdown",
      "source": [
        "# **É um método que retorna os valores únicos de uma coluna. Esse método elimina os valores duplicados e retorna uma lista com os valores únicos.**\n",
        "\n",
        "Portanto, quando você executa df['Continent'].unique(), você obtém os valores únicos da coluna \"Continent\" do DataFrame df"
      ],
      "metadata": {
        "id": "30YcangDD2MS"
      }
    },
    {
      "cell_type": "code",
      "source": [
        "# obtenha os valores unicos na coluna continent\n",
        "\n",
        "df['Continent'].unique()\n"
      ],
      "metadata": {
        "colab": {
          "base_uri": "https://localhost:8080/"
        },
        "id": "kioj5JFoS-1v",
        "outputId": "e0f0b406-2c8c-40f8-d0fe-1c9766fdd2e0"
      },
      "execution_count": null,
      "outputs": [
        {
          "output_type": "execute_result",
          "data": {
            "text/plain": [
              "array(['Asia', 'South America', 'Africa', 'North America', 'Europe',\n",
              "       'Oceana', nan, 'Oceania'], dtype=object)"
            ]
          },
          "metadata": {},
          "execution_count": 6
        }
      ]
    },
    {
      "cell_type": "markdown",
      "source": [
        "# código faz  seleção de linhas no DataFrame \"df\" e retorna apenas as linhas na\n",
        "\n",
        "**coluna \"Continente\" tem valor nulo (ou seja, é vazio ou não tem valor).**"
      ],
      "metadata": {
        "id": "IBE9vJUPHAE_"
      }
    },
    {
      "cell_type": "code",
      "source": [
        "#Selecionando Linhas com Valores Nulos na Coluna 'Continente'\n",
        "df[df['Continent'].isnull()]"
      ],
      "metadata": {
        "id": "HsKyYnaLUbGW",
        "colab": {
          "base_uri": "https://localhost:8080/",
          "height": 395
        },
        "outputId": "c071e3cc-ce67-4c55-ddf0-8068507b5599"
      },
      "execution_count": null,
      "outputs": [
        {
          "output_type": "execute_result",
          "data": {
            "text/plain": [
              "                    City                   Country Continent  \\\n",
              "133        Santo Domingo        Dominican Republic       NaN   \n",
              "146          Ouagadougou              Burkina Faso       NaN   \n",
              "184           Manchester            United Kingdom       NaN   \n",
              "187          Brazzaville     Republic of the Congo       NaN   \n",
              "313              Glasgow            United Kingdom       NaN   \n",
              "400         Pointe Noire     Republic of the Congo       NaN   \n",
              "424               Prague            Czech Republic       NaN   \n",
              "604               Bangui  Central African Republic       NaN   \n",
              "628          Southampton            United Kingdom       NaN   \n",
              "718  Newcastle Upon Tyne            United Kingdom       NaN   \n",
              "736           Nottingham            United Kingdom       NaN   \n",
              "\n",
              "     Population (2024)  Population (2023)  Growth Rate  \n",
              "133            3587402            3523890       0.0180  \n",
              "146            3358934            3203923       0.0484  \n",
              "184            2811756            2791005       0.0074  \n",
              "187            2724566            2637733       0.0329  \n",
              "313            1708147            1698088       0.0059  \n",
              "400            1379368            1336387       0.0322  \n",
              "424            1327947            1323339       0.0035  \n",
              "604             985965             958335       0.0288  \n",
              "628             959202             951531       0.0081  \n",
              "718             828712             823431       0.0064  \n",
              "736             813078             806757       0.0078  "
            ],
            "text/html": [
              "\n",
              "  <div id=\"df-76a79222-3986-43de-b92c-857c1c848ba4\" class=\"colab-df-container\">\n",
              "    <div>\n",
              "<style scoped>\n",
              "    .dataframe tbody tr th:only-of-type {\n",
              "        vertical-align: middle;\n",
              "    }\n",
              "\n",
              "    .dataframe tbody tr th {\n",
              "        vertical-align: top;\n",
              "    }\n",
              "\n",
              "    .dataframe thead th {\n",
              "        text-align: right;\n",
              "    }\n",
              "</style>\n",
              "<table border=\"1\" class=\"dataframe\">\n",
              "  <thead>\n",
              "    <tr style=\"text-align: right;\">\n",
              "      <th></th>\n",
              "      <th>City</th>\n",
              "      <th>Country</th>\n",
              "      <th>Continent</th>\n",
              "      <th>Population (2024)</th>\n",
              "      <th>Population (2023)</th>\n",
              "      <th>Growth Rate</th>\n",
              "    </tr>\n",
              "  </thead>\n",
              "  <tbody>\n",
              "    <tr>\n",
              "      <th>133</th>\n",
              "      <td>Santo Domingo</td>\n",
              "      <td>Dominican Republic</td>\n",
              "      <td>NaN</td>\n",
              "      <td>3587402</td>\n",
              "      <td>3523890</td>\n",
              "      <td>0.0180</td>\n",
              "    </tr>\n",
              "    <tr>\n",
              "      <th>146</th>\n",
              "      <td>Ouagadougou</td>\n",
              "      <td>Burkina Faso</td>\n",
              "      <td>NaN</td>\n",
              "      <td>3358934</td>\n",
              "      <td>3203923</td>\n",
              "      <td>0.0484</td>\n",
              "    </tr>\n",
              "    <tr>\n",
              "      <th>184</th>\n",
              "      <td>Manchester</td>\n",
              "      <td>United Kingdom</td>\n",
              "      <td>NaN</td>\n",
              "      <td>2811756</td>\n",
              "      <td>2791005</td>\n",
              "      <td>0.0074</td>\n",
              "    </tr>\n",
              "    <tr>\n",
              "      <th>187</th>\n",
              "      <td>Brazzaville</td>\n",
              "      <td>Republic of the Congo</td>\n",
              "      <td>NaN</td>\n",
              "      <td>2724566</td>\n",
              "      <td>2637733</td>\n",
              "      <td>0.0329</td>\n",
              "    </tr>\n",
              "    <tr>\n",
              "      <th>313</th>\n",
              "      <td>Glasgow</td>\n",
              "      <td>United Kingdom</td>\n",
              "      <td>NaN</td>\n",
              "      <td>1708147</td>\n",
              "      <td>1698088</td>\n",
              "      <td>0.0059</td>\n",
              "    </tr>\n",
              "    <tr>\n",
              "      <th>400</th>\n",
              "      <td>Pointe Noire</td>\n",
              "      <td>Republic of the Congo</td>\n",
              "      <td>NaN</td>\n",
              "      <td>1379368</td>\n",
              "      <td>1336387</td>\n",
              "      <td>0.0322</td>\n",
              "    </tr>\n",
              "    <tr>\n",
              "      <th>424</th>\n",
              "      <td>Prague</td>\n",
              "      <td>Czech Republic</td>\n",
              "      <td>NaN</td>\n",
              "      <td>1327947</td>\n",
              "      <td>1323339</td>\n",
              "      <td>0.0035</td>\n",
              "    </tr>\n",
              "    <tr>\n",
              "      <th>604</th>\n",
              "      <td>Bangui</td>\n",
              "      <td>Central African Republic</td>\n",
              "      <td>NaN</td>\n",
              "      <td>985965</td>\n",
              "      <td>958335</td>\n",
              "      <td>0.0288</td>\n",
              "    </tr>\n",
              "    <tr>\n",
              "      <th>628</th>\n",
              "      <td>Southampton</td>\n",
              "      <td>United Kingdom</td>\n",
              "      <td>NaN</td>\n",
              "      <td>959202</td>\n",
              "      <td>951531</td>\n",
              "      <td>0.0081</td>\n",
              "    </tr>\n",
              "    <tr>\n",
              "      <th>718</th>\n",
              "      <td>Newcastle Upon Tyne</td>\n",
              "      <td>United Kingdom</td>\n",
              "      <td>NaN</td>\n",
              "      <td>828712</td>\n",
              "      <td>823431</td>\n",
              "      <td>0.0064</td>\n",
              "    </tr>\n",
              "    <tr>\n",
              "      <th>736</th>\n",
              "      <td>Nottingham</td>\n",
              "      <td>United Kingdom</td>\n",
              "      <td>NaN</td>\n",
              "      <td>813078</td>\n",
              "      <td>806757</td>\n",
              "      <td>0.0078</td>\n",
              "    </tr>\n",
              "  </tbody>\n",
              "</table>\n",
              "</div>\n",
              "    <div class=\"colab-df-buttons\">\n",
              "\n",
              "  <div class=\"colab-df-container\">\n",
              "    <button class=\"colab-df-convert\" onclick=\"convertToInteractive('df-76a79222-3986-43de-b92c-857c1c848ba4')\"\n",
              "            title=\"Convert this dataframe to an interactive table.\"\n",
              "            style=\"display:none;\">\n",
              "\n",
              "  <svg xmlns=\"http://www.w3.org/2000/svg\" height=\"24px\" viewBox=\"0 -960 960 960\">\n",
              "    <path d=\"M120-120v-720h720v720H120Zm60-500h600v-160H180v160Zm220 220h160v-160H400v160Zm0 220h160v-160H400v160ZM180-400h160v-160H180v160Zm440 0h160v-160H620v160ZM180-180h160v-160H180v160Zm440 0h160v-160H620v160Z\"/>\n",
              "  </svg>\n",
              "    </button>\n",
              "\n",
              "  <style>\n",
              "    .colab-df-container {\n",
              "      display:flex;\n",
              "      gap: 12px;\n",
              "    }\n",
              "\n",
              "    .colab-df-convert {\n",
              "      background-color: #E8F0FE;\n",
              "      border: none;\n",
              "      border-radius: 50%;\n",
              "      cursor: pointer;\n",
              "      display: none;\n",
              "      fill: #1967D2;\n",
              "      height: 32px;\n",
              "      padding: 0 0 0 0;\n",
              "      width: 32px;\n",
              "    }\n",
              "\n",
              "    .colab-df-convert:hover {\n",
              "      background-color: #E2EBFA;\n",
              "      box-shadow: 0px 1px 2px rgba(60, 64, 67, 0.3), 0px 1px 3px 1px rgba(60, 64, 67, 0.15);\n",
              "      fill: #174EA6;\n",
              "    }\n",
              "\n",
              "    .colab-df-buttons div {\n",
              "      margin-bottom: 4px;\n",
              "    }\n",
              "\n",
              "    [theme=dark] .colab-df-convert {\n",
              "      background-color: #3B4455;\n",
              "      fill: #D2E3FC;\n",
              "    }\n",
              "\n",
              "    [theme=dark] .colab-df-convert:hover {\n",
              "      background-color: #434B5C;\n",
              "      box-shadow: 0px 1px 3px 1px rgba(0, 0, 0, 0.15);\n",
              "      filter: drop-shadow(0px 1px 2px rgba(0, 0, 0, 0.3));\n",
              "      fill: #FFFFFF;\n",
              "    }\n",
              "  </style>\n",
              "\n",
              "    <script>\n",
              "      const buttonEl =\n",
              "        document.querySelector('#df-76a79222-3986-43de-b92c-857c1c848ba4 button.colab-df-convert');\n",
              "      buttonEl.style.display =\n",
              "        google.colab.kernel.accessAllowed ? 'block' : 'none';\n",
              "\n",
              "      async function convertToInteractive(key) {\n",
              "        const element = document.querySelector('#df-76a79222-3986-43de-b92c-857c1c848ba4');\n",
              "        const dataTable =\n",
              "          await google.colab.kernel.invokeFunction('convertToInteractive',\n",
              "                                                    [key], {});\n",
              "        if (!dataTable) return;\n",
              "\n",
              "        const docLinkHtml = 'Like what you see? Visit the ' +\n",
              "          '<a target=\"_blank\" href=https://colab.research.google.com/notebooks/data_table.ipynb>data table notebook</a>'\n",
              "          + ' to learn more about interactive tables.';\n",
              "        element.innerHTML = '';\n",
              "        dataTable['output_type'] = 'display_data';\n",
              "        await google.colab.output.renderOutput(dataTable, element);\n",
              "        const docLink = document.createElement('div');\n",
              "        docLink.innerHTML = docLinkHtml;\n",
              "        element.appendChild(docLink);\n",
              "      }\n",
              "    </script>\n",
              "  </div>\n",
              "\n",
              "\n",
              "<div id=\"df-9c52f40a-5005-441a-b098-bfa374d61df3\">\n",
              "  <button class=\"colab-df-quickchart\" onclick=\"quickchart('df-9c52f40a-5005-441a-b098-bfa374d61df3')\"\n",
              "            title=\"Suggest charts\"\n",
              "            style=\"display:none;\">\n",
              "\n",
              "<svg xmlns=\"http://www.w3.org/2000/svg\" height=\"24px\"viewBox=\"0 0 24 24\"\n",
              "     width=\"24px\">\n",
              "    <g>\n",
              "        <path d=\"M19 3H5c-1.1 0-2 .9-2 2v14c0 1.1.9 2 2 2h14c1.1 0 2-.9 2-2V5c0-1.1-.9-2-2-2zM9 17H7v-7h2v7zm4 0h-2V7h2v10zm4 0h-2v-4h2v4z\"/>\n",
              "    </g>\n",
              "</svg>\n",
              "  </button>\n",
              "\n",
              "<style>\n",
              "  .colab-df-quickchart {\n",
              "      --bg-color: #E8F0FE;\n",
              "      --fill-color: #1967D2;\n",
              "      --hover-bg-color: #E2EBFA;\n",
              "      --hover-fill-color: #174EA6;\n",
              "      --disabled-fill-color: #AAA;\n",
              "      --disabled-bg-color: #DDD;\n",
              "  }\n",
              "\n",
              "  [theme=dark] .colab-df-quickchart {\n",
              "      --bg-color: #3B4455;\n",
              "      --fill-color: #D2E3FC;\n",
              "      --hover-bg-color: #434B5C;\n",
              "      --hover-fill-color: #FFFFFF;\n",
              "      --disabled-bg-color: #3B4455;\n",
              "      --disabled-fill-color: #666;\n",
              "  }\n",
              "\n",
              "  .colab-df-quickchart {\n",
              "    background-color: var(--bg-color);\n",
              "    border: none;\n",
              "    border-radius: 50%;\n",
              "    cursor: pointer;\n",
              "    display: none;\n",
              "    fill: var(--fill-color);\n",
              "    height: 32px;\n",
              "    padding: 0;\n",
              "    width: 32px;\n",
              "  }\n",
              "\n",
              "  .colab-df-quickchart:hover {\n",
              "    background-color: var(--hover-bg-color);\n",
              "    box-shadow: 0 1px 2px rgba(60, 64, 67, 0.3), 0 1px 3px 1px rgba(60, 64, 67, 0.15);\n",
              "    fill: var(--button-hover-fill-color);\n",
              "  }\n",
              "\n",
              "  .colab-df-quickchart-complete:disabled,\n",
              "  .colab-df-quickchart-complete:disabled:hover {\n",
              "    background-color: var(--disabled-bg-color);\n",
              "    fill: var(--disabled-fill-color);\n",
              "    box-shadow: none;\n",
              "  }\n",
              "\n",
              "  .colab-df-spinner {\n",
              "    border: 2px solid var(--fill-color);\n",
              "    border-color: transparent;\n",
              "    border-bottom-color: var(--fill-color);\n",
              "    animation:\n",
              "      spin 1s steps(1) infinite;\n",
              "  }\n",
              "\n",
              "  @keyframes spin {\n",
              "    0% {\n",
              "      border-color: transparent;\n",
              "      border-bottom-color: var(--fill-color);\n",
              "      border-left-color: var(--fill-color);\n",
              "    }\n",
              "    20% {\n",
              "      border-color: transparent;\n",
              "      border-left-color: var(--fill-color);\n",
              "      border-top-color: var(--fill-color);\n",
              "    }\n",
              "    30% {\n",
              "      border-color: transparent;\n",
              "      border-left-color: var(--fill-color);\n",
              "      border-top-color: var(--fill-color);\n",
              "      border-right-color: var(--fill-color);\n",
              "    }\n",
              "    40% {\n",
              "      border-color: transparent;\n",
              "      border-right-color: var(--fill-color);\n",
              "      border-top-color: var(--fill-color);\n",
              "    }\n",
              "    60% {\n",
              "      border-color: transparent;\n",
              "      border-right-color: var(--fill-color);\n",
              "    }\n",
              "    80% {\n",
              "      border-color: transparent;\n",
              "      border-right-color: var(--fill-color);\n",
              "      border-bottom-color: var(--fill-color);\n",
              "    }\n",
              "    90% {\n",
              "      border-color: transparent;\n",
              "      border-bottom-color: var(--fill-color);\n",
              "    }\n",
              "  }\n",
              "</style>\n",
              "\n",
              "  <script>\n",
              "    async function quickchart(key) {\n",
              "      const quickchartButtonEl =\n",
              "        document.querySelector('#' + key + ' button');\n",
              "      quickchartButtonEl.disabled = true;  // To prevent multiple clicks.\n",
              "      quickchartButtonEl.classList.add('colab-df-spinner');\n",
              "      try {\n",
              "        const charts = await google.colab.kernel.invokeFunction(\n",
              "            'suggestCharts', [key], {});\n",
              "      } catch (error) {\n",
              "        console.error('Error during call to suggestCharts:', error);\n",
              "      }\n",
              "      quickchartButtonEl.classList.remove('colab-df-spinner');\n",
              "      quickchartButtonEl.classList.add('colab-df-quickchart-complete');\n",
              "    }\n",
              "    (() => {\n",
              "      let quickchartButtonEl =\n",
              "        document.querySelector('#df-9c52f40a-5005-441a-b098-bfa374d61df3 button');\n",
              "      quickchartButtonEl.style.display =\n",
              "        google.colab.kernel.accessAllowed ? 'block' : 'none';\n",
              "    })();\n",
              "  </script>\n",
              "</div>\n",
              "\n",
              "    </div>\n",
              "  </div>\n"
            ],
            "application/vnd.google.colaboratory.intrinsic+json": {
              "type": "dataframe",
              "repr_error": "0"
            }
          },
          "metadata": {},
          "execution_count": 7
        }
      ]
    },
    {
      "cell_type": "code",
      "source": [
        "# Tratar os valores ausentes na coluna 'Continente'\n",
        "# Preenchendo valores ausentes com a moda\n",
        "moda_continente = df['Continent'].mode()[0]\n",
        "df['Continent'].fillna(moda_continente, inplace=True)\n",
        "\n",
        "# Verificando se ainda existem valores ausentes\n",
        "print(df['Continent'].isnull().sum())  # Deve retornar 0\n"
      ],
      "metadata": {
        "colab": {
          "base_uri": "https://localhost:8080/"
        },
        "id": "fXfVARpzZrhH",
        "outputId": "2a099b1e-bd01-4823-f41d-9bbc56a4bfe7"
      },
      "execution_count": null,
      "outputs": [
        {
          "output_type": "stream",
          "name": "stdout",
          "text": [
            "0\n"
          ]
        }
      ]
    },
    {
      "cell_type": "markdown",
      "source": [
        "# **Previsões de Taxa de Crescimento:**\n",
        "# - Um modelo de regressão linear foi treinado para prever a taxa de crescimento com base na cidade e no continente.\n",
        "# - O erro médio absoluto (MAE) do modelo é de aproximadamente [valor do MAE].\n",
        "# - A visualização das previsões vs valores reais e a distribuição dos resíduos podem fornecer mais insights sobre o desempenho do modelo.\n",
        "\n",
        "# **O que e insights?**\n",
        "\n",
        "# referem-se a entendimentos ou percepções profundas sobre um assunto, geralmente obtidos através da análise de dados ou observação detalhada. Em um contexto mais específico, como em análise de dados ou negócios.\n"
      ],
      "metadata": {
        "id": "W07P97XJlNj_"
      }
    },
    {
      "cell_type": "code",
      "source": [
        "import matplotlib.pyplot as plt\n",
        "\n",
        "# Agrupando o DataFrame por continente e conte o número de cidades em cada continente\n",
        "continent_counts = df.groupby('Continent')['City'].count()\n",
        "\n",
        "# Criando um gráfico de barras\n",
        "plt.bar(continent_counts.index, continent_counts.values)\n",
        "plt.xlabel('Continente')\n",
        "plt.ylabel('Número de Cidades')\n",
        "plt.title('Número de Cidades por Continente')\n",
        "plt.xticks(rotation=45, ha='right')  # Gira os rótulos do eixo x para melhor legibilidade\n",
        "plt.tight_layout()  # Ajusta o layout para evitar sobreposição\n",
        "plt.show()\n"
      ],
      "metadata": {
        "colab": {
          "base_uri": "https://localhost:8080/",
          "height": 487
        },
        "id": "ef-yRXDjTwx4",
        "outputId": "0bd0e089-9a33-4b7d-d5a2-6137a144aef7"
      },
      "execution_count": null,
      "outputs": [
        {
          "output_type": "display_data",
          "data": {
            "text/plain": [
              "<Figure size 640x480 with 1 Axes>"
            ],
            "image/png": "[encoded data removed]"
          },
          "metadata": {}
        }
      ]
    },
    {
      "cell_type": "markdown",
      "source": [
        "Calcular a moda da coluna 'Continent' Aqui, df['Continent'].mode() retorna uma série com os valores que aparecem com mais frequência na coluna 'Continent'.\n",
        "O [0] seleciona o primeiro valor dessa série, que é a moda da coluna.\n",
        "Preencher valores nulos com a moda:A função fillna é usada para preencher os valores nulos na coluna 'Continent' com a moda calculada anteriormente.\n",
        "O parâmetro inplace=True garante que a alteração seja feita diretamente no DataFrame df.df['Continent'].isnull().sum() calcula o número de valores nulos restantes na coluna 'Continent' após a substituição."
      ],
      "metadata": {
        "id": "jBeU8A2jIUsa"
      }
    },
    {
      "cell_type": "markdown",
      "source": [
        "#Esse código faz o seguinte:\n",
        "\n",
        "#Importa o módulo pyplot do matplotlib:\n",
        "#from matplotlib import pyplot as plt, Isso permite criar gráficos e visualizações de dados.\n",
        "\n",
        "**Cria um histograma da coluna 'Population (2024)' do DataFrame df:**\n",
        "\n",
        "df['Population (2024)'].plot(kind='hist', bins=20, title='Population (2024)')\n",
        "df['Population (2024)']:\n",
        "**Seleciona a coluna 'Population (2024)' do DataFrame df.**\n",
        "\n",
        "plot(kind='hist'): Plota um histograma da coluna selecionada.\n",
        "bins=20: Divide os dados em 20 intervalos (bins).\n",
        "title='Population (2024)': Define o título do gráfico como 'Population (2024)'.\n",
        "\n",
        "**Remove as bordas superiores e direitas do gráfico:**\n",
        "\n",
        "\n",
        "plt.gca().spines[['top', 'right']].set_visible(False)\n",
        "plt.gca(): Obtém o objeto do eixo atual (current axis).\n",
        "spines[['top', 'right']]: Seleciona as bordas superior e direita do gráfico.\n",
        "set_visible(False): Torna essas bordas invisíveis."
      ],
      "metadata": {
        "id": "A_jsHEwWaK9-"
      }
    },
    {
      "source": [
        "#  Population (2024)\n",
        "\n",
        "from matplotlib import pyplot as plt\n",
        "\n",
        "df['Population (2024)'].plot(kind='hist', bins=20, title='Population (2024)')\n",
        "plt.gca().spines[['top', 'right',]].set_visible(False)"
      ],
      "cell_type": "code",
      "execution_count": null,
      "outputs": [
        {
          "output_type": "display_data",
          "data": {
            "text/plain": [
              "<Figure size 640x480 with 1 Axes>"
            ],
            "image/png": "[encoded data removed]"
          },
          "metadata": {}
        }
      ],
      "metadata": {
        "colab": {
          "base_uri": "https://localhost:8080/",
          "height": 470
        },
        "id": "klIlzyxBR13A",
        "outputId": "0068c454-ce9f-4b9b-ac33-604e85904053"
      }
    },
    {
      "source": [
        "# Population (2023)\n",
        "\n",
        "from matplotlib import pyplot as plt\n",
        "df['Population (2023)'].plot(kind='hist', bins=20, title='Population (2023)')\n",
        "plt.gca().spines[['top', 'right',]].set_visible(False)"
      ],
      "cell_type": "code",
      "execution_count": null,
      "outputs": [
        {
          "output_type": "display_data",
          "data": {
            "text/plain": [
              "<Figure size 640x480 with 1 Axes>"
            ],
            "image/png": "[encoded data removed]"
          },
          "metadata": {}
        }
      ],
      "metadata": {
        "colab": {
          "base_uri": "https://localhost:8080/",
          "height": 470
        },
        "id": "bZYSfi2NR-kv",
        "outputId": "492161f6-f32f-4ce9-a815-3daa865d27bf"
      }
    },
    {
      "cell_type": "markdown",
      "source": [
        "# **O código fornecido cria um histograma para visualizar a distribuição da taxa de crescimento (Growth Rate) no DataFrame. Ele utiliza a biblioteca Matplotlib para gerar a visualização e ajusta a estética do gráfico removendo as bordas superior e direita para uma apresentação mais limpa. Essa visualização é útil para entender a distribuição dos dados antes da aplicação de técnicas de modelagem, facilitando a escolha e ajuste dos modelos apropriados.**"
      ],
      "metadata": {
        "id": "CcU5hOTdEriI"
      }
    },
    {
      "source": [
        "# Taxa de crescimento\n",
        "\n",
        "from matplotlib import pyplot as plt\n",
        "df['Growth Rate'].plot(kind='hist', bins=20, title='Growth Rate')\n",
        "plt.gca().spines[['top', 'right',]].set_visible(False)"
      ],
      "cell_type": "code",
      "execution_count": null,
      "outputs": [
        {
          "output_type": "display_data",
          "data": {
            "text/plain": [
              "<Figure size 640x480 with 1 Axes>"
            ],
            "image/png": "[encoded data removed]"
          },
          "metadata": {}
        }
      ],
      "metadata": {
        "colab": {
          "base_uri": "https://localhost:8080/",
          "height": 452
        },
        "id": "zy2LvA5QSNMQ",
        "outputId": "ae35eb08-5f5d-4aaf-9598-a8cbcb09a293"
      }
    },
    {
      "cell_type": "markdown",
      "source": [
        "**O gráfico de barras horizontal é usado para visualizar a distribuição das cidades entre diferentes continentes.\n",
        "Ele mostra a quantidade de cidades em\n",
        "cada continente, facilitando a comparação visual entre os continentes.**\n",
        "\n",
        "**Estética e Clareza:** O ajuste das bordas do gráfico ajuda a melhorar a clareza e a apresentação visual, destacando as informações importantes sem distrações adicionais.\n",
        "\n",
        "Este gráfico fornece uma visão clara da distribuição das cidades por continente e é útil para entender a quantidade de dados representados por cada categoria."
      ],
      "metadata": {
        "id": "h1at4JrTFZKK"
      }
    },
    {
      "source": [
        "# Continent\n",
        "\n",
        "from matplotlib import pyplot as plt\n",
        "import seaborn as sns\n",
        "df.groupby('Continent').size().plot(kind='barh', color=sns.palettes.mpl_palette('Dark2'))\n",
        "plt.gca().spines[['top', 'right',]].set_visible(False)"
      ],
      "cell_type": "code",
      "execution_count": null,
      "outputs": [
        {
          "output_type": "display_data",
          "data": {
            "text/plain": [
              "<Figure size 640x480 with 1 Axes>"
            ],
            "image/png": "[encoded data removed]"
          },
          "metadata": {}
        }
      ],
      "metadata": {
        "colab": {
          "base_uri": "https://localhost:8080/",
          "height": 430
        },
        "id": "giJO-gPWVhtG",
        "outputId": "c14a410f-9762-486c-e1eb-0a3750f05c45"
      }
    },
    {
      "cell_type": "markdown",
      "source": [
        "# **Duplicatas**\n"
      ],
      "metadata": {
        "id": "PqOLod7BevwP"
      }
    },
    {
      "cell_type": "code",
      "source": [
        "# verifica se existe duplicatas nas colunas\n",
        "\n",
        "# Verificar duplicatas em todas as colunas\n",
        "colunas_duplicadas = df.columns[df.columns.duplicated()]\n",
        "print(\"Colunas duplicadas:\", colunas_duplicadas.tolist())\n",
        "\n",
        "# Verificar duplicatas em uma coluna específica (por exemplo, 'Cidade')\n",
        "duplicatas_cidade = df['City'].duplicated().sum()\n",
        "print(\"Duplicatas na coluna 'Cidade':\", duplicatas_cidade)\n"
      ],
      "metadata": {
        "colab": {
          "base_uri": "https://localhost:8080/"
        },
        "id": "M6qDDioge70K",
        "outputId": "5d006a24-a5ed-40c7-aa7c-e1affdb95f92"
      },
      "execution_count": null,
      "outputs": [
        {
          "output_type": "stream",
          "name": "stdout",
          "text": [
            "Colunas duplicadas: []\n",
            "Duplicatas na coluna 'Cidade': 4\n"
          ]
        }
      ]
    },
    {
      "cell_type": "code",
      "source": [
        "#  duplicatas nas colunas cidade tarte as colunas duplicadas\n",
        "\n",
        "# Verificar duplicatas na coluna 'Cidade' e exibir as cidades duplicadas\n",
        "duplicatas_cidade = df[df['City'].duplicated(keep=False)]\n",
        "print(\"Cidades duplicadas:\\n\", duplicatas_cidade)\n",
        "\n",
        "# Remover duplicatas na coluna 'Cidade', mantendo a primeira ocorrência\n",
        "df = df.drop_duplicates(subset='City', keep='first')\n",
        "\n",
        "# Verificar se as duplicatas foram removidas\n",
        "duplicatas_cidade = df[df['City'].duplicated(keep=False)]\n",
        "print(\"Cidades duplicadas após a remoção:\\n\", duplicatas_cidade)\n"
      ],
      "metadata": {
        "colab": {
          "base_uri": "https://localhost:8080/"
        },
        "id": "oaw4QzfffXhf",
        "outputId": "bfdef4b5-4e62-4df6-a332-f3cf1eda0cf5"
      },
      "execution_count": null,
      "outputs": [
        {
          "output_type": "stream",
          "name": "stdout",
          "text": [
            "Cidades duplicadas:\n",
            "           City        Country      Continent  Population (2024)  \\\n",
            "31   Hyderabad          India           Asia           11068877   \n",
            "45      Suzhou          China           Asia            8350625   \n",
            "261  Hyderabad       Pakistan           Asia            2011964   \n",
            "262   Valencia      Venezuela  South America            2007265   \n",
            "369   San Jose     Costa Rica  North America            1482460   \n",
            "414     Suzhou          China           Asia            1349994   \n",
            "645   San Jose  United States  North America             932636   \n",
            "705   Valencia          Spain         Europe             839770   \n",
            "\n",
            "     Population (2023)  Growth Rate  \n",
            "31            10801163       0.0248  \n",
            "45             8074031       0.0343  \n",
            "261            1967684       0.0225  \n",
            "262            1983445       0.0120  \n",
            "369            1461989       0.0140  \n",
            "414            1310433       0.0302  \n",
            "645             951934      -0.0203  \n",
            "705             838301       0.0018  \n",
            "Cidades duplicadas após a remoção:\n",
            " Empty DataFrame\n",
            "Columns: [City, Country, Continent, Population (2024), Population (2023), Growth Rate]\n",
            "Index: []\n"
          ]
        }
      ]
    },
    {
      "cell_type": "code",
      "source": [
        "# verifica todas as tabelas com valores duplicados e colunas e cidades\n",
        "\n",
        "# Verificar linhas duplicadas\n",
        "linhas_duplicadas = df.duplicated()\n",
        "print(\"Linhas duplicadas:\")\n",
        "print(df[linhas_duplicadas])\n",
        "\n",
        "# Verificar colunas duplicadas\n",
        "colunas_duplicadas = df.columns[df.columns.duplicated()]\n",
        "print(\"\\nColunas duplicadas:\")\n",
        "print(colunas_duplicadas)\n",
        "\n",
        "# Verificar cidades duplicadas\n",
        "cidades_duplicadas = df['City'].duplicated()\n",
        "print(\"\\nCidades duplicadas:\")\n",
        "print(df[cidades_duplicadas])\n"
      ],
      "metadata": {
        "id": "AdWo5xVSgIUv",
        "colab": {
          "base_uri": "https://localhost:8080/"
        },
        "outputId": "6153b616-6f6f-4903-e310-af6213639804"
      },
      "execution_count": null,
      "outputs": [
        {
          "output_type": "stream",
          "name": "stdout",
          "text": [
            "Linhas duplicadas:\n",
            "Empty DataFrame\n",
            "Columns: [City, Country, Continent, Population (2024), Population (2023), Growth Rate]\n",
            "Index: []\n",
            "\n",
            "Colunas duplicadas:\n",
            "Index([], dtype='object')\n",
            "\n",
            "Cidades duplicadas:\n",
            "Empty DataFrame\n",
            "Columns: [City, Country, Continent, Population (2024), Population (2023), Growth Rate]\n",
            "Index: []\n"
          ]
        }
      ]
    },
    {
      "cell_type": "code",
      "source": [
        "# prompt: depois da remoção das duplicatas nas colunas cidade amostre os resultados\n",
        "\n",
        "# Verificar se as duplicatas foram removidas\n",
        "duplicatas_cidade = df[df['City'].duplicated(keep=False)]\n",
        "print(\"Cidades duplicadas após a remoção:\\n\", duplicatas_cidade)\n",
        "\n",
        "# Amostra dos resultados após a remoção de duplicatas (exibindo as 5 primeiras linhas)\n",
        "df.head()\n"
      ],
      "metadata": {
        "colab": {
          "base_uri": "https://localhost:8080/",
          "height": 298
        },
        "id": "PXe29zujfjFX",
        "outputId": "78148a5b-64c4-499d-c03b-337f30e3e72f"
      },
      "execution_count": null,
      "outputs": [
        {
          "output_type": "stream",
          "name": "stdout",
          "text": [
            "Cidades duplicadas após a remoção:\n",
            " Empty DataFrame\n",
            "Columns: [City, Country, Continent, Population (2024), Population (2023), Growth Rate, z_score_pop, z_score_growth]\n",
            "Index: []\n"
          ]
        },
        {
          "output_type": "execute_result",
          "data": {
            "text/plain": [
              "        City     Country      Continent  Population (2024)  Population (2023)  \\\n",
              "0      Tokyo       Japan           Asia           37115035           37194105   \n",
              "1      Delhi       India           Asia           33807403           32941309   \n",
              "2   Shanghai       China           Asia           29867918           29210808   \n",
              "3      Dhaka  Bangladesh           Asia           23935652           23209616   \n",
              "4  Sao Paulo      Brazil  South America           22806704           22619736   \n",
              "\n",
              "   Growth Rate  z_score_pop  z_score_growth  \n",
              "0      -0.0021     9.261320       -1.819782  \n",
              "1       0.0263     8.372393        0.513344  \n",
              "2       0.0225     7.313656        0.201166  \n",
              "3       0.0313     5.719359        0.924106  \n",
              "4       0.0083     5.415954       -0.965398  "
            ],
            "text/html": [
              "\n",
              "  <div id=\"df-d66e0b52-4355-4cfd-80e3-7db9c78942a1\" class=\"colab-df-container\">\n",
              "    <div>\n",
              "<style scoped>\n",
              "    .dataframe tbody tr th:only-of-type {\n",
              "        vertical-align: middle;\n",
              "    }\n",
              "\n",
              "    .dataframe tbody tr th {\n",
              "        vertical-align: top;\n",
              "    }\n",
              "\n",
              "    .dataframe thead th {\n",
              "        text-align: right;\n",
              "    }\n",
              "</style>\n",
              "<table border=\"1\" class=\"dataframe\">\n",
              "  <thead>\n",
              "    <tr style=\"text-align: right;\">\n",
              "      <th></th>\n",
              "      <th>City</th>\n",
              "      <th>Country</th>\n",
              "      <th>Continent</th>\n",
              "      <th>Population (2024)</th>\n",
              "      <th>Population (2023)</th>\n",
              "      <th>Growth Rate</th>\n",
              "      <th>z_score_pop</th>\n",
              "      <th>z_score_growth</th>\n",
              "    </tr>\n",
              "  </thead>\n",
              "  <tbody>\n",
              "    <tr>\n",
              "      <th>0</th>\n",
              "      <td>Tokyo</td>\n",
              "      <td>Japan</td>\n",
              "      <td>Asia</td>\n",
              "      <td>37115035</td>\n",
              "      <td>37194105</td>\n",
              "      <td>-0.0021</td>\n",
              "      <td>9.261320</td>\n",
              "      <td>-1.819782</td>\n",
              "    </tr>\n",
              "    <tr>\n",
              "      <th>1</th>\n",
              "      <td>Delhi</td>\n",
              "      <td>India</td>\n",
              "      <td>Asia</td>\n",
              "      <td>33807403</td>\n",
              "      <td>32941309</td>\n",
              "      <td>0.0263</td>\n",
              "      <td>8.372393</td>\n",
              "      <td>0.513344</td>\n",
              "    </tr>\n",
              "    <tr>\n",
              "      <th>2</th>\n",
              "      <td>Shanghai</td>\n",
              "      <td>China</td>\n",
              "      <td>Asia</td>\n",
              "      <td>29867918</td>\n",
              "      <td>29210808</td>\n",
              "      <td>0.0225</td>\n",
              "      <td>7.313656</td>\n",
              "      <td>0.201166</td>\n",
              "    </tr>\n",
              "    <tr>\n",
              "      <th>3</th>\n",
              "      <td>Dhaka</td>\n",
              "      <td>Bangladesh</td>\n",
              "      <td>Asia</td>\n",
              "      <td>23935652</td>\n",
              "      <td>23209616</td>\n",
              "      <td>0.0313</td>\n",
              "      <td>5.719359</td>\n",
              "      <td>0.924106</td>\n",
              "    </tr>\n",
              "    <tr>\n",
              "      <th>4</th>\n",
              "      <td>Sao Paulo</td>\n",
              "      <td>Brazil</td>\n",
              "      <td>South America</td>\n",
              "      <td>22806704</td>\n",
              "      <td>22619736</td>\n",
              "      <td>0.0083</td>\n",
              "      <td>5.415954</td>\n",
              "      <td>-0.965398</td>\n",
              "    </tr>\n",
              "  </tbody>\n",
              "</table>\n",
              "</div>\n",
              "    <div class=\"colab-df-buttons\">\n",
              "\n",
              "  <div class=\"colab-df-container\">\n",
              "    <button class=\"colab-df-convert\" onclick=\"convertToInteractive('df-d66e0b52-4355-4cfd-80e3-7db9c78942a1')\"\n",
              "            title=\"Convert this dataframe to an interactive table.\"\n",
              "            style=\"display:none;\">\n",
              "\n",
              "  <svg xmlns=\"http://www.w3.org/2000/svg\" height=\"24px\" viewBox=\"0 -960 960 960\">\n",
              "    <path d=\"M120-120v-720h720v720H120Zm60-500h600v-160H180v160Zm220 220h160v-160H400v160Zm0 220h160v-160H400v160ZM180-400h160v-160H180v160Zm440 0h160v-160H620v160ZM180-180h160v-160H180v160Zm440 0h160v-160H620v160Z\"/>\n",
              "  </svg>\n",
              "    </button>\n",
              "\n",
              "  <style>\n",
              "    .colab-df-container {\n",
              "      display:flex;\n",
              "      gap: 12px;\n",
              "    }\n",
              "\n",
              "    .colab-df-convert {\n",
              "      background-color: #E8F0FE;\n",
              "      border: none;\n",
              "      border-radius: 50%;\n",
              "      cursor: pointer;\n",
              "      display: none;\n",
              "      fill: #1967D2;\n",
              "      height: 32px;\n",
              "      padding: 0 0 0 0;\n",
              "      width: 32px;\n",
              "    }\n",
              "\n",
              "    .colab-df-convert:hover {\n",
              "      background-color: #E2EBFA;\n",
              "      box-shadow: 0px 1px 2px rgba(60, 64, 67, 0.3), 0px 1px 3px 1px rgba(60, 64, 67, 0.15);\n",
              "      fill: #174EA6;\n",
              "    }\n",
              "\n",
              "    .colab-df-buttons div {\n",
              "      margin-bottom: 4px;\n",
              "    }\n",
              "\n",
              "    [theme=dark] .colab-df-convert {\n",
              "      background-color: #3B4455;\n",
              "      fill: #D2E3FC;\n",
              "    }\n",
              "\n",
              "    [theme=dark] .colab-df-convert:hover {\n",
              "      background-color: #434B5C;\n",
              "      box-shadow: 0px 1px 3px 1px rgba(0, 0, 0, 0.15);\n",
              "      filter: drop-shadow(0px 1px 2px rgba(0, 0, 0, 0.3));\n",
              "      fill: #FFFFFF;\n",
              "    }\n",
              "  </style>\n",
              "\n",
              "    <script>\n",
              "      const buttonEl =\n",
              "        document.querySelector('#df-d66e0b52-4355-4cfd-80e3-7db9c78942a1 button.colab-df-convert');\n",
              "      buttonEl.style.display =\n",
              "        google.colab.kernel.accessAllowed ? 'block' : 'none';\n",
              "\n",
              "      async function convertToInteractive(key) {\n",
              "        const element = document.querySelector('#df-d66e0b52-4355-4cfd-80e3-7db9c78942a1');\n",
              "        const dataTable =\n",
              "          await google.colab.kernel.invokeFunction('convertToInteractive',\n",
              "                                                    [key], {});\n",
              "        if (!dataTable) return;\n",
              "\n",
              "        const docLinkHtml = 'Like what you see? Visit the ' +\n",
              "          '<a target=\"_blank\" href=https://colab.research.google.com/notebooks/data_table.ipynb>data table notebook</a>'\n",
              "          + ' to learn more about interactive tables.';\n",
              "        element.innerHTML = '';\n",
              "        dataTable['output_type'] = 'display_data';\n",
              "        await google.colab.output.renderOutput(dataTable, element);\n",
              "        const docLink = document.createElement('div');\n",
              "        docLink.innerHTML = docLinkHtml;\n",
              "        element.appendChild(docLink);\n",
              "      }\n",
              "    </script>\n",
              "  </div>\n",
              "\n",
              "\n",
              "<div id=\"df-d1fb5206-454c-40ac-b6fd-3598db5d9cf9\">\n",
              "  <button class=\"colab-df-quickchart\" onclick=\"quickchart('df-d1fb5206-454c-40ac-b6fd-3598db5d9cf9')\"\n",
              "            title=\"Suggest charts\"\n",
              "            style=\"display:none;\">\n",
              "\n",
              "<svg xmlns=\"http://www.w3.org/2000/svg\" height=\"24px\"viewBox=\"0 0 24 24\"\n",
              "     width=\"24px\">\n",
              "    <g>\n",
              "        <path d=\"M19 3H5c-1.1 0-2 .9-2 2v14c0 1.1.9 2 2 2h14c1.1 0 2-.9 2-2V5c0-1.1-.9-2-2-2zM9 17H7v-7h2v7zm4 0h-2V7h2v10zm4 0h-2v-4h2v4z\"/>\n",
              "    </g>\n",
              "</svg>\n",
              "  </button>\n",
              "\n",
              "<style>\n",
              "  .colab-df-quickchart {\n",
              "      --bg-color: #E8F0FE;\n",
              "      --fill-color: #1967D2;\n",
              "      --hover-bg-color: #E2EBFA;\n",
              "      --hover-fill-color: #174EA6;\n",
              "      --disabled-fill-color: #AAA;\n",
              "      --disabled-bg-color: #DDD;\n",
              "  }\n",
              "\n",
              "  [theme=dark] .colab-df-quickchart {\n",
              "      --bg-color: #3B4455;\n",
              "      --fill-color: #D2E3FC;\n",
              "      --hover-bg-color: #434B5C;\n",
              "      --hover-fill-color: #FFFFFF;\n",
              "      --disabled-bg-color: #3B4455;\n",
              "      --disabled-fill-color: #666;\n",
              "  }\n",
              "\n",
              "  .colab-df-quickchart {\n",
              "    background-color: var(--bg-color);\n",
              "    border: none;\n",
              "    border-radius: 50%;\n",
              "    cursor: pointer;\n",
              "    display: none;\n",
              "    fill: var(--fill-color);\n",
              "    height: 32px;\n",
              "    padding: 0;\n",
              "    width: 32px;\n",
              "  }\n",
              "\n",
              "  .colab-df-quickchart:hover {\n",
              "    background-color: var(--hover-bg-color);\n",
              "    box-shadow: 0 1px 2px rgba(60, 64, 67, 0.3), 0 1px 3px 1px rgba(60, 64, 67, 0.15);\n",
              "    fill: var(--button-hover-fill-color);\n",
              "  }\n",
              "\n",
              "  .colab-df-quickchart-complete:disabled,\n",
              "  .colab-df-quickchart-complete:disabled:hover {\n",
              "    background-color: var(--disabled-bg-color);\n",
              "    fill: var(--disabled-fill-color);\n",
              "    box-shadow: none;\n",
              "  }\n",
              "\n",
              "  .colab-df-spinner {\n",
              "    border: 2px solid var(--fill-color);\n",
              "    border-color: transparent;\n",
              "    border-bottom-color: var(--fill-color);\n",
              "    animation:\n",
              "      spin 1s steps(1) infinite;\n",
              "  }\n",
              "\n",
              "  @keyframes spin {\n",
              "    0% {\n",
              "      border-color: transparent;\n",
              "      border-bottom-color: var(--fill-color);\n",
              "      border-left-color: var(--fill-color);\n",
              "    }\n",
              "    20% {\n",
              "      border-color: transparent;\n",
              "      border-left-color: var(--fill-color);\n",
              "      border-top-color: var(--fill-color);\n",
              "    }\n",
              "    30% {\n",
              "      border-color: transparent;\n",
              "      border-left-color: var(--fill-color);\n",
              "      border-top-color: var(--fill-color);\n",
              "      border-right-color: var(--fill-color);\n",
              "    }\n",
              "    40% {\n",
              "      border-color: transparent;\n",
              "      border-right-color: var(--fill-color);\n",
              "      border-top-color: var(--fill-color);\n",
              "    }\n",
              "    60% {\n",
              "      border-color: transparent;\n",
              "      border-right-color: var(--fill-color);\n",
              "    }\n",
              "    80% {\n",
              "      border-color: transparent;\n",
              "      border-right-color: var(--fill-color);\n",
              "      border-bottom-color: var(--fill-color);\n",
              "    }\n",
              "    90% {\n",
              "      border-color: transparent;\n",
              "      border-bottom-color: var(--fill-color);\n",
              "    }\n",
              "  }\n",
              "</style>\n",
              "\n",
              "  <script>\n",
              "    async function quickchart(key) {\n",
              "      const quickchartButtonEl =\n",
              "        document.querySelector('#' + key + ' button');\n",
              "      quickchartButtonEl.disabled = true;  // To prevent multiple clicks.\n",
              "      quickchartButtonEl.classList.add('colab-df-spinner');\n",
              "      try {\n",
              "        const charts = await google.colab.kernel.invokeFunction(\n",
              "            'suggestCharts', [key], {});\n",
              "      } catch (error) {\n",
              "        console.error('Error during call to suggestCharts:', error);\n",
              "      }\n",
              "      quickchartButtonEl.classList.remove('colab-df-spinner');\n",
              "      quickchartButtonEl.classList.add('colab-df-quickchart-complete');\n",
              "    }\n",
              "    (() => {\n",
              "      let quickchartButtonEl =\n",
              "        document.querySelector('#df-d1fb5206-454c-40ac-b6fd-3598db5d9cf9 button');\n",
              "      quickchartButtonEl.style.display =\n",
              "        google.colab.kernel.accessAllowed ? 'block' : 'none';\n",
              "    })();\n",
              "  </script>\n",
              "</div>\n",
              "\n",
              "    </div>\n",
              "  </div>\n"
            ],
            "application/vnd.google.colaboratory.intrinsic+json": {
              "type": "dataframe",
              "variable_name": "df",
              "summary": "{\n  \"name\": \"df\",\n  \"rows\": 797,\n  \"fields\": [\n    {\n      \"column\": \"City\",\n      \"properties\": {\n        \"dtype\": \"string\",\n        \"num_unique_values\": 797,\n        \"samples\": [\n          \"Zhuji\",\n          \"Soshanguve\",\n          \"Dalian\"\n        ],\n        \"semantic_type\": \"\",\n        \"description\": \"\"\n      }\n    },\n    {\n      \"column\": \"Country\",\n      \"properties\": {\n        \"dtype\": \"category\",\n        \"num_unique_values\": 132,\n        \"samples\": [\n          \"Kuwait\",\n          \"Togo\",\n          \"South Korea\"\n        ],\n        \"semantic_type\": \"\",\n        \"description\": \"\"\n      }\n    },\n    {\n      \"column\": \"Continent\",\n      \"properties\": {\n        \"dtype\": \"category\",\n        \"num_unique_values\": 7,\n        \"samples\": [\n          \"Asia\",\n          \"South America\",\n          \"Oceana\"\n        ],\n        \"semantic_type\": \"\",\n        \"description\": \"\"\n      }\n    },\n    {\n      \"column\": \"Population (2024)\",\n      \"properties\": {\n        \"dtype\": \"number\",\n        \"std\": 3731181,\n        \"min\": 750036,\n        \"max\": 37115035,\n        \"num_unique_values\": 797,\n        \"samples\": [\n          852608,\n          905868,\n          6217487\n        ],\n        \"semantic_type\": \"\",\n        \"description\": \"\"\n      }\n    },\n    {\n      \"column\": \"Population (2023)\",\n      \"properties\": {\n        \"dtype\": \"number\",\n        \"std\": 3669024,\n        \"min\": 722836,\n        \"max\": 37194105,\n        \"num_unique_values\": 797,\n        \"samples\": [\n          834782,\n          892254,\n          6077995\n        ],\n        \"semantic_type\": \"\",\n        \"description\": \"\"\n      }\n    },\n    {\n      \"column\": \"Growth Rate\",\n      \"properties\": {\n        \"dtype\": \"number\",\n        \"std\": 0.012103568712283642,\n        \"min\": -0.0249,\n        \"max\": 0.0582,\n        \"num_unique_values\": 375,\n        \"samples\": [\n          0.0254,\n          0.0181,\n          0.0155\n        ],\n        \"semantic_type\": \"\",\n        \"description\": \"\"\n      }\n    },\n    {\n      \"column\": \"z_score_pop\",\n      \"properties\": {\n        \"dtype\": \"number\",\n        \"std\": 1.0027554275199948,\n        \"min\": -0.5117785439832367,\n        \"max\": 9.261319695243754,\n        \"num_unique_values\": 797,\n        \"samples\": [\n          -0.4842123055627712,\n          -0.4698986735942613,\n          0.9575996276251239\n        ],\n        \"semantic_type\": \"\",\n        \"description\": \"\"\n      }\n    },\n    {\n      \"column\": \"z_score_growth\",\n      \"properties\": {\n        \"dtype\": \"number\",\n        \"std\": 0.9943366004291336,\n        \"min\": -3.6928557757861142,\n        \"max\": 3.1340044222150167,\n        \"num_unique_values\": 375,\n        \"samples\": [\n          0.4394073765539202,\n          -0.1603047708035797,\n          -0.37390087808159356\n        ],\n        \"semantic_type\": \"\",\n        \"description\": \"\"\n      }\n    }\n  ]\n}"
            }
          },
          "metadata": {},
          "execution_count": 48
        }
      ]
    },
    {
      "cell_type": "code",
      "source": [
        "# Distribuição por Continente A Ásia tem o maior número de cidades no conjunto de dados, seguida pela Europa e América do Norte A África e a Oceania têm o menor número de cidades vms tartar esses valores.\n",
        "\n",
        "import matplotlib.pyplot as plt\n",
        "# Agrupando o DataFrame por continente e contando o número de cidades em cada continente\n",
        "continent_counts = df.groupby('Continent')['City'].count()\n",
        "\n",
        "# Exibindo a contagem de cidades por continente\n",
        "print(continent_counts)\n",
        "\n",
        "# Criando um gráfico de barras para visualizar a distribuição\n",
        "plt.figure(figsize=(10, 6))\n",
        "continent_counts.plot(kind='bar')\n",
        "plt.xlabel('Continente')\n",
        "plt.ylabel('Número de Cidades')\n",
        "plt.title('Distribuição de Cidades por Continente')\n",
        "plt.xticks(rotation=45, ha='right')\n",
        "plt.tight_layout()\n",
        "plt.show()\n",
        "\n",
        "# Como a tarefa é \"tratar\" a distribuição desigual, podemos considerar algumas opções:\n",
        "\n",
        "# 1. Reamostragem:\n",
        "#    - Se o objetivo é ter um número igual de cidades de cada continente para modelagem, podemos usar técnicas de reamostragem como oversampling (duplicar amostras de continentes com menos cidades) ou undersampling (remover amostras de continentes com mais cidades).\n",
        "\n",
        "# 2. Ponderação:\n",
        "#    - Podemos atribuir pesos diferentes às amostras de cada continente durante a modelagem, dando mais importância aos continentes com menos cidades.\n",
        "\n",
        "# 3. Coleta de mais dados:\n",
        "#    - Se possível, coletar mais dados de cidades na África e Oceania para equilibrar a distribuição.\n",
        "\n",
        "# A escolha da melhor abordagem depende do objetivo específico da análise e dos recursos disponíveis.\n"
      ],
      "metadata": {
        "colab": {
          "base_uri": "https://localhost:8080/",
          "height": 763
        },
        "id": "Cyo7QlHchqg_",
        "outputId": "7e2cea79-6087-4e0f-d4ef-a243a494e4e4"
      },
      "execution_count": null,
      "outputs": [
        {
          "output_type": "stream",
          "name": "stdout",
          "text": [
            "Continent\n",
            "Africa           106\n",
            "Asia             509\n",
            "Europe            52\n",
            "North America     62\n",
            "Oceana             2\n",
            "Oceania            4\n",
            "South America     62\n",
            "Name: City, dtype: int64\n"
          ]
        },
        {
          "output_type": "display_data",
          "data": {
            "text/plain": [
              "<Figure size 1000x600 with 1 Axes>"
            ],
            "image/png": "[encoded data removed]"
          },
          "metadata": {}
        }
      ]
    },
    {
      "cell_type": "markdown",
      "source": [
        "# **Taxa de Crescimento**\n",
        "# - A taxa de crescimento também parece seguir uma distribuição assimétrica, com a maioria das cidades apresentando taxas de crescimento moderadas.\n",
        "\n",
        "# **negrito**\n",
        "## - Existem algumas cidades com taxas de crescimento negativas, indicando declínio populacional.**negrito**"
      ],
      "metadata": {
        "id": "-UFULOc6kY2H"
      }
    },
    {
      "cell_type": "code",
      "source": [
        "# pesos diferentes às amostras de cada continente durante a modelagem, dando\n",
        "# mais importância aos continentes com menos cidades oceana, oceania .\n",
        "\n",
        "import matplotlib.pyplot as plt\n",
        "# Calcula a frequência de cada continente\n",
        "continent_counts = df['Continent'].value_counts()\n",
        "\n",
        "# Cria um dicionário de pesos, onde continentes com menos cidades têm pesos maiores\n",
        "total_cities = continent_counts.sum()\n",
        "weights = {continent: total_cities / count for continent, count in continent_counts.items()}\n",
        "\n",
        "# Amostra do DataFrame com pesos\n",
        "df_sampled = df.sample(n=100, weights=df['Continent'].map(weights), random_state=42)  # Substitua 100 pelo número desejado de amostras\n",
        "\n",
        "# Agrupa o DataFrame amostrado por continente e conta o número de cidades\n",
        "continent_counts_sampled = df_sampled['Continent'].value_counts()\n",
        "\n",
        "# Cria um gráfico de barras para comparar a distribuição original e a amostrada\n",
        "fig, axes = plt.subplots(1, 2, figsize=(15, 6))\n",
        "\n",
        "continent_counts.plot(kind='bar', ax=axes[0])\n",
        "axes[0].set_xlabel('Continente')\n",
        "axes[0].set_ylabel('Número de Cidades')\n",
        "axes[0].set_title('Distribuição Original')\n",
        "\n",
        "continent_counts_sampled.plot(kind='bar', ax=axes[1])\n",
        "axes[1].set_xlabel('Continente')\n",
        "axes[1].set_ylabel('Número de Cidades')\n",
        "axes[1].set_title('Distribuição Amostrada com Pesos')\n",
        "\n",
        "plt.tight_layout()\n",
        "plt.show()\n"
      ],
      "metadata": {
        "colab": {
          "base_uri": "https://localhost:8080/",
          "height": 567
        },
        "id": "Rhwqd80Ijoiw",
        "outputId": "8489c367-5d75-4589-b01a-7eac10cc4b90"
      },
      "execution_count": null,
      "outputs": [
        {
          "output_type": "display_data",
          "data": {
            "text/plain": [
              "<Figure size 1500x600 with 2 Axes>"
            ],
            "image/png": "[encoded data removed]"
          },
          "metadata": {}
        }
      ]
    },
    {
      "cell_type": "markdown",
      "source": [
        "# **outliers**\n",
        "\n",
        "# Investigar os outliers na população e taxa de crescimento.\n",
        "# Tratar os valores ausentes na coluna 'Continente'.\n",
        "# Experimentar diferentes modelos preditivos e técnicas de engenharia de recursos para melhorar a precisão das previsões.\n",
        "# Analisar mais a fundo a relação entre a taxa de crescimento e outras variáveis, como indicadores econômicos ou sociais."
      ],
      "metadata": {
        "id": "pKVBGFPZklJ-"
      }
    },
    {
      "cell_type": "code",
      "source": [
        "# Outliers investigando  na população taxa de crescimento.\n",
        "\n",
        "import matplotlib.pyplot as plt\n",
        "# Investigando outliers na população e taxa de crescimento\n",
        "\n",
        "# Visualizando outliers com boxplots\n",
        "plt.figure(figsize=(10, 6))\n",
        "\n",
        "plt.subplot(1, 2, 1)\n",
        "sns.boxplot(y=df['Population (2024)'])\n",
        "plt.title('Boxplot da População (2024)')\n",
        "\n",
        "plt.subplot(1, 2, 2)\n",
        "sns.boxplot(y=df['Growth Rate'])\n",
        "plt.title('Boxplot da Taxa de Crescimento')\n",
        "\n",
        "plt.tight_layout()\n",
        "plt.show()\n",
        "\n",
        "# Calculando o z-score para identificar outliers\n",
        "from scipy import stats\n",
        "\n",
        "df['z_score_pop'] = stats.zscore(df['Population (2024)'])\n",
        "df['z_score_growth'] = stats.zscore(df['Growth Rate'])\n",
        "\n",
        "# Definindo um limite para identificar outliers (por exemplo, z-score > 3)\n",
        "limite_outlier = 3\n",
        "\n",
        "# Exibindo outliers\n",
        "print(\"Outliers na população:\")\n",
        "print(df[df['z_score_pop'] > limite_outlier])\n",
        "\n",
        "print(\"\\nOutliers na taxa de crescimento:\")\n",
        "print(df[df['z_score_growth'] > limite_outlier])\n",
        "\n",
        "# Lidando com outliers (exemplo: removendo outliers)\n",
        "df_sem_outliers = df[(df['z_score_pop'] <= limite_outlier) & (df['z_score_growth'] <= limite_outlier)]\n",
        "\n",
        "# Alternativamente, você pode substituir outliers por valores menos extremos, como a mediana ou valores dentro de um intervalo aceitável.\n"
      ],
      "metadata": {
        "colab": {
          "base_uri": "https://localhost:8080/",
          "height": 1000
        },
        "id": "EN9_C5QXZJJX",
        "outputId": "c207cae5-7292-41a1-8150-8849060a7a5e"
      },
      "execution_count": null,
      "outputs": [
        {
          "output_type": "display_data",
          "data": {
            "text/plain": [
              "<Figure size 1000x600 with 2 Axes>"
            ],
            "image/png": "[encoded data removed]"
          },
          "metadata": {}
        },
        {
          "output_type": "stream",
          "name": "stdout",
          "text": [
            "Outliers na população:\n",
            "            City      Country      Continent  Population (2024)  \\\n",
            "0          Tokyo        Japan           Asia           37115035   \n",
            "1          Delhi        India           Asia           33807403   \n",
            "2       Shanghai        China           Asia           29867918   \n",
            "3          Dhaka   Bangladesh           Asia           23935652   \n",
            "4      Sao Paulo       Brazil  South America           22806704   \n",
            "5          Cairo        Egypt         Africa           22623874   \n",
            "6    Mexico City       Mexico  North America           22505315   \n",
            "7        Beijing        China           Asia           22189082   \n",
            "8         Mumbai        India           Asia           21673149   \n",
            "9          Osaka        Japan           Asia           18967459   \n",
            "10     Chongqing        China           Asia           17773923   \n",
            "11       Karachi     Pakistan           Asia           17648555   \n",
            "12      Kinshasa     DR Congo         Africa           17032322   \n",
            "13         Lagos      Nigeria         Africa           16536018   \n",
            "14      Istanbul       Turkey           Asia           16047350   \n",
            "15  Buenos Aires    Argentina  South America           15618288   \n",
            "16       Kolkata        India           Asia           15570786   \n",
            "17        Manila  Philippines           Asia           14941953   \n",
            "18     Guangzhou        China           Asia           14590096   \n",
            "19       Tianjin        China           Asia           14470873   \n",
            "20        Lahore     Pakistan           Asia           14407074   \n",
            "21     Bangalore        India           Asia           14008262   \n",
            "\n",
            "    Population (2023)  Growth Rate  z_score_pop  z_score_growth  \n",
            "0            37194105      -0.0021     9.239826       -1.836068  \n",
            "1            32941309       0.0263     8.352785        0.511820  \n",
            "2            29210808       0.0225     7.296294        0.197666  \n",
            "3            23209616       0.0313     5.705379        0.925181  \n",
            "4            22619736       0.0083     5.402618       -0.976278  \n",
            "5            22183201       0.0199     5.353587       -0.017281  \n",
            "6            22281442       0.0100     5.321792       -0.835735  \n",
            "7            21766214       0.0194     5.236984       -0.058617  \n",
            "8            21296517       0.0177     5.098622       -0.199160  \n",
            "9            19013434      -0.0024     4.373010       -1.860870  \n",
            "10           17340704       0.0250     4.052927        0.404347  \n",
            "11           17236230       0.0239     4.019306        0.313407  \n",
            "12           16315534       0.0439     3.854045        1.966850  \n",
            "13           15945912       0.0370     3.720946        1.396412  \n",
            "14           15847768       0.0126     3.589895       -0.620788  \n",
            "15           15490415       0.0083     3.474829       -0.976278  \n",
            "16           15332793       0.0155     3.462090       -0.381039  \n",
            "17           14667089       0.0187     3.293450       -0.116488  \n",
            "18           14284353       0.0214     3.199089        0.106727  \n",
            "19           14238643       0.0163     3.167116       -0.314901  \n",
            "20           13979390       0.0306     3.150006        0.867311  \n",
            "21           13607800       0.0294     3.043053        0.768104  \n",
            "\n",
            "Outliers na taxa de crescimento:\n",
            "          City  Country Continent  Population (2024)  Population (2023)  \\\n",
            "451  Bujumbura  Burundi    Africa            1277050            1206767   \n",
            "\n",
            "     Growth Rate  z_score_pop  z_score_growth  \n",
            "451       0.0582    -0.371203        3.149062  \n"
          ]
        }
      ]
    },
    {
      "cell_type": "code",
      "source": [
        "import pandas as pd\n",
        "from sklearn.model_selection import train_test_split\n",
        "from sklearn.linear_model import LinearRegression\n",
        "from sklearn.metrics import mean_absolute_error\n",
        "\n",
        "#Prepare os dados\n",
        "X = pd.get_dummies(df[['City', 'Continent']], drop_first=True)\n",
        "y = df['Growth Rate']\n",
        "\n",
        "# Divida os dados em conjuntos de treinamento e teste\n",
        "X_train, X_test, y_train, y_test = train_test_split(X, y, test_size=0.2, random_state=42)\n",
        "\n",
        "# Treine o modelo de regressão linear\n",
        "model = LinearRegression()\n",
        "model.fit(X_train, y_train)\n",
        "\n",
        "# Faça previsões no conjunto de testes\n",
        "y_pred = model.predict(X_test)\n",
        "\n",
        "# Calcule o erro absoluto médio\n",
        "mae = mean_absolute_error(y_test, y_pred)\n",
        "print(\"Mean Absolute Error:\", mae)\n"
      ],
      "metadata": {
        "colab": {
          "base_uri": "https://localhost:8080/"
        },
        "id": "si-s72mkItEN",
        "outputId": "c3e4efd2-6596-4c12-ec7e-9c949e29fce9"
      },
      "execution_count": null,
      "outputs": [
        {
          "output_type": "stream",
          "name": "stdout",
          "text": [
            "Mean Absolute Error: 0.007388756904357493\n"
          ]
        }
      ]
    },
    {
      "cell_type": "code",
      "source": [
        "from sklearn.tree import DecisionTreeRegressor\n",
        "from sklearn.metrics import mean_squared_error, mean_absolute_error\n",
        "\n",
        "# Crie e ajuste o modelo de árvore de decisão\n",
        "model = DecisionTreeRegressor()\n",
        "model.fit(X_train, y_train)\n",
        "\n",
        "# Faça previsões no conjunto de teste\n",
        "y_pred = model.predict(X_test)\n",
        "\n",
        "# Calcule as métricas de avaliação\n",
        "mae = mean_absolute_error(y_test, y_pred)\n",
        "rmse = mean_squared_error(y_test, y_pred, squared=False)\n",
        "\n",
        "print(\"Mean Absolute Error (MAE):\", mae)\n",
        "print(\"Root Mean Squared Error (RMSE):\", rmse)\n"
      ],
      "metadata": {
        "colab": {
          "base_uri": "https://localhost:8080/"
        },
        "id": "d4DKY902Kumt",
        "outputId": "93b433db-891b-46c6-b74d-69868e37c1c9"
      },
      "execution_count": null,
      "outputs": [
        {
          "output_type": "stream",
          "name": "stdout",
          "text": [
            "Mean Absolute Error (MAE): 0.007493125000000001\n",
            "Root Mean Squared Error (RMSE): 0.010347188627835098\n"
          ]
        }
      ]
    },
    {
      "cell_type": "markdown",
      "source": [
        "Com base nos resultados obtidos (apenas o MAE foi apresentado no código),\n",
        "a Árvore de Decisão parece ser mais adequada para o problema, pois apresentou\n",
        "um MAE menor que a Regressão Linear.\n",
        "\n",
        "No entanto, é importante ressaltar que essa conclusão é preliminar e\n",
        "uma análise mais aprofundada, incluindo outras métricas e visualizações,\n",
        "é necessária para uma decisão mais precisa."
      ],
      "metadata": {
        "id": "H8Etdjc3J4I8"
      }
    },
    {
      "cell_type": "code",
      "source": [
        "\n",
        "# ... (código anterior)\n",
        "\n",
        "# Avaliação dos modelos\n",
        "\n",
        "# Comparando o MAE dos modelos de Regressão Linear e Árvore de Decisão\n",
        "print(\"Mean Absolute Error (Regressão Linear):\", mean_absolute_error(y_test, model.predict(X_test)))\n",
        "print(\"Mean Absolute Error (Árvore de Decisão):\", mae)\n"
      ],
      "metadata": {
        "colab": {
          "base_uri": "https://localhost:8080/"
        },
        "id": "Vedxj-7GLXQp",
        "outputId": "7e0860e3-e4d7-4b33-ae07-a7f519a24295"
      },
      "execution_count": null,
      "outputs": [
        {
          "output_type": "stream",
          "name": "stdout",
          "text": [
            "Mean Absolute Error (Regressão Linear): 0.007493125000000001\n",
            "Mean Absolute Error (Árvore de Decisão): 0.007493125000000001\n"
          ]
        }
      ]
    }
  ]
}